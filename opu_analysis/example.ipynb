{
 "cells": [
  {
   "attachments": {},
   "cell_type": "markdown",
   "metadata": {},
   "source": [
    "# Library dependencies\n",
    "\n",
    "`opu_analysis_lib` needs below library to funcion properly:\n",
    "\n",
    "* numpy\n",
    "* scipy\n",
    "* sklearn\n",
    "* mpllayout, this should be included with the original distribution but you can also get it from https://github.com/lguangyu/MatplotlibLayout.git\n",
    "* skfeature, install with `pip install skfeature-chappers`, then fix a bug manually (https://github.com/charliec443/scikit-feature/issues/11). Or, just install from my patched version https://github.com/lguangyu/scikit-feature.git."
   ]
  },
  {
   "cell_type": "code",
   "execution_count": null,
   "metadata": {},
   "outputs": [],
   "source": [
    "%matplotlib inline\n",
    "\n",
    "import opu_analysis_lib as oal\n",
    "import os"
   ]
  },
  {
   "attachments": {},
   "cell_type": "markdown",
   "metadata": {},
   "source": [
    "# Dataset preparation\n",
    "\n",
    "To begin OPU analysis, first we need to configure the dataset we need to use in the analysis. It's genuinly a list with each dataset's information stored in dicts. Using the mock datasets as an example:"
   ]
  },
  {
   "cell_type": "code",
   "execution_count": null,
   "metadata": {},
   "outputs": [],
   "source": [
    "dataset_config = [\n",
    "\t{\n",
    "\t\t# name of the dataset (biosample) shown in outputs\n",
    "\t\t\"name\": \"MOCK_0\",\n",
    "\t\t# color of the dataset (biosample) shown in figure outputs\n",
    "\t\t\"color\": \"#66a61e\",\n",
    "\t\t# the spectral data, a table with:\n",
    "\t\t#\t- the 1st row is wavenumbers\n",
    "\t\t#\t- the rest rows are intensities\n",
    "\t\t#\t- with/without first column as sample names (see below)\n",
    "\t\t\"file\": \"example.assets/data/mock_00.tsv\",\n",
    "\t},\n",
    "\t{\n",
    "\t\t\"name\": \"MOCK_1\",\n",
    "\t\t\"color\": \"#e6ab02\",\n",
    "\t\t\"file\": \"example.assets/data/mock_01.tsv\",\n",
    "\t},\n",
    "\t{\n",
    "\t\t\"name\": \"MOCK_2\",\n",
    "\t\t\"color\": \"#e41a1c\",\n",
    "\t\t# file can also be a list of files\n",
    "\t\t\"file\": [\n",
    "\t\t\t\"example.assets/data/mock_02-1.tsv\",\n",
    "\t\t\t\"example.assets/data/mock_02-2.tsv\",\n",
    "\t\t]\n",
    "\t},\n",
    "]\n",
    "\n",
    "# now we can create the OPU analyzer object\n",
    "opu_analysis = oal.OPUAnalysis.from_config(dataset_config,\n",
    "\t# we also need extra reconcile parameters to tell the program how to\n",
    "\t# preprocess the data, and more importantly, if need binning to force align\n",
    "\t# the wavenumbers in each dataset (as they can be slightly different each\n",
    "\t# run)\n",
    "\treconcile_param=dict(\n",
    "\t\t# set to True if the dataset files contain first column as sample sames\n",
    "\t\twith_spectra_names=False,\n",
    "\t\t# use binning to re-align wavenumbers, 5 is a typical window size\n",
    "\t\tbin_size=5.0,\n",
    "\t\t# the wavenumber range to extract here 400-1800\n",
    "\t\twavenum_low=400,\n",
    "\t\twavenum_high=1800,\n",
    "\t\t# normalization method, optional depending OPU clustering metric\n",
    "\t\tnormalize=\"l2\",\n",
    "\t)\n",
    ")\n",
    "\n",
    "# as an alternative, we can use `oal.OPUAnalysis.from_config.json()` to read\n",
    "# above config settings if it's saved as a json."
   ]
  },
  {
   "attachments": {},
   "cell_type": "markdown",
   "metadata": {},
   "source": [
    "# OPU identification and output\n",
    "\n",
    "## Hierarchical clustering analysis\n",
    "\n",
    "OPUs are recognized by running hierarchical clustering analysis (HCA) on the spectra, done by calling `run_hca()` method. Possible parameters are:\n",
    "\n",
    "### `metric`\n",
    "\n",
    "The metric used to calculate distances between spectra, can be:\n",
    "\n",
    "* cosine: the cosine dissimilarity, this is the default\n",
    "* sqrt_cosine: cosine dissimilarity taken square root; unlike cosine dissimilarity which does not sufficice triangular inequality, sqrt_cosine is a true metric\n",
    "* euclidean: the Euclidean distance\n",
    "\n",
    "### `cutoff`\n",
    "\n",
    "The distance cutoff to split clusters, can be any real number, e.g. `cutoff=0.7`; in addition, this parameter can take two other str values to use built-in automated cutoff optimizer, to find a most balanced cutoff regarding to model complexity and number of clusters:\n",
    "\n",
    "* `cutoff=\"aic\"`: using Akaike information criterion\n",
    "* `cutoff=\"bic\"`: using Bayesian information criterion\n",
    "\n",
    "The default is 0.7.\n",
    "\n",
    "### `max_n_opus`\n",
    "\n",
    "The maximum of top-sized OPUs reported; can be any non-negative integers; if set to 0, all OPUs will be reported without this limit.\n",
    "\n",
    "### `opu_min_size`\n",
    "\n",
    "The minimum number of spectra within a cluster to report this cluster as an OPU. This option can filter out small clusters (usually singletons). It accepts any non-negative integer or a fraction value between 0-1:\n",
    "\n",
    "* integer: the minimum number of spectra\n",
    "* fraction (0-1): the fraction of total number of spectra analyzed; e.g. if the total number of spectra is 103, and `opu_min_size=0.1`, then only clusters with 11 spectra or more will be reported OPUs."
   ]
  },
  {
   "cell_type": "code",
   "execution_count": null,
   "metadata": {},
   "outputs": [],
   "source": [
    "opu_analysis.run_hca(metric=\"cosine\", cutoff=0.7, max_n_opus=0,\n",
    "\topu_min_size=0.1)"
   ]
  },
  {
   "attachments": {},
   "cell_type": "markdown",
   "metadata": {},
   "source": [
    "## Save per spectra OPU labels\n",
    "\n",
    "`save_opu_labels()` will save all OPU labels into a two-column text file, with the first column as the spectra name and the second column is OPU labels; Note that for those spectra belong to clusters failed to be reported as OPUs, their label will be shown as '-' instead of a numerical value. Parameters are:\n",
    "\n",
    "### first argument\n",
    "\n",
    "The name of output file.\n",
    "\n",
    "### `delimiter`\n",
    "\n",
    "The column delimiter in output file, default is `<tab>`."
   ]
  },
  {
   "cell_type": "code",
   "execution_count": null,
   "metadata": {},
   "outputs": [],
   "source": [
    "opu_analysis.save_opu_labels(\"example.assets/opu_labels.txt\", delimiter=\"\\t\")"
   ]
  },
  {
   "attachments": {},
   "cell_type": "markdown",
   "metadata": {},
   "source": [
    "## Save spectra data in each reported OPU\n",
    "\n",
    "`save_opu_collections()` will save the spectra in each OPUs; this function can generate multiple outputs, each output corresponds to an OPU with parameter:\n",
    "\n",
    "### `prefix`\n",
    "\n",
    "The prefix of generated files; for example, if `prefix=\"spectra_collection\"`, the generated files will be `spectra_collection.OPU_00.txt`, `spectra_collection.OPU_01.txt`, etc. The `prefix` can contain folder(s) so that the output files will be organized into a folder."
   ]
  },
  {
   "cell_type": "code",
   "execution_count": null,
   "metadata": {},
   "outputs": [],
   "source": [
    "opu_analysis.save_opu_collections(\"example.assets/spectra_collection\")"
   ]
  },
  {
   "attachments": {},
   "cell_type": "markdown",
   "metadata": {},
   "source": [
    "## HCA clustering heatmap and dendrogram plot\n",
    "\n",
    "After calling `run_hca()`, a heatmap and dendrogram showing the details of the OPU clustering can be plotted by calling method `plot_opu_hca()`. Parameters are as follows:\n",
    "\n",
    "### `plot_to`\n",
    "\n",
    "How the plot will be shown, possible values are:\n",
    "\n",
    "* `plot=\"show\"`: show the plot in `matplotlib`'s interactive mode (only works in command-line)\n",
    "* `plot=\"jupyter\"`: embed the plot into Jupyter notebook (only works in jupyter notebook)\n",
    "* `plot=\"plot.png\"`: save as an image; `plot.png` can be changed to arbitrary file name of supported format, e.g. `my_image.tiff`;\n",
    "\n",
    "### `dpi`\n",
    "\n",
    "The resolution of output image, default is 300. Higher the dpi, larger the image file, and slower the rendering time. Typically 300 is good overall, <=150 has better portability and 600 is good for publication/print. Please note that some journal may require a minimal resolution in author's guide.\n"
   ]
  },
  {
   "cell_type": "code",
   "execution_count": null,
   "metadata": {},
   "outputs": [],
   "source": [
    "opu_analysis.plot_opu_hca(plot_to=\"jupyter\", dpi=300)"
   ]
  },
  {
   "attachments": {},
   "cell_type": "markdown",
   "metadata": {},
   "source": [
    "# OPU abundance analysis\n",
    "\n",
    "Abundance analysis can be done in two ways:\n",
    "\n",
    "* `plot_opu_abundance_stackbar()`: abundances in each biosample as stacked bar plot\n",
    "* `plot_opu_abundance_biplot()`: PCA-like sample similarity analysis based on OPU abundance profiles\n",
    "\n",
    "## Per biosample OPU abundance stackbar plot\n",
    "\n",
    "`plot_opu_abundance_stackbar()` outputs a stacked barplot showing the OPU relative abundances across different bioasmple, accepts two parameters:\n",
    "\n",
    "### `plot_to`\n",
    "\n",
    "How the plot will be shown, possible values are:\n",
    "\n",
    "* `plot=\"show\"`: show the plot in `matplotlib`'s interactive mode (only works in command-line)\n",
    "* `plot=\"jupyter\"`: embed the plot into Jupyter notebook (only works in jupyter notebook)\n",
    "* `plot=\"plot.png\"`: save as an image; `plot.png` can be changed to arbitrary file name of supported format, e.g. `my_image.tiff`;\n",
    "\n",
    "### `dpi`\n",
    "\n",
    "The resolution of output image, default is 300. Higher the dpi, larger the image file, and slower the rendering time. Typically 300 is good overall, <=150 has better portability and 600 is good for publication/print. Please note that some journal may require a minimal resolution in author's guide."
   ]
  },
  {
   "cell_type": "code",
   "execution_count": null,
   "metadata": {},
   "outputs": [],
   "source": [
    "opu_analysis.plot_opu_abundance_stackbar(plot_to=\"jupyter\", dpi=300)"
   ]
  },
  {
   "attachments": {},
   "cell_type": "markdown",
   "metadata": {},
   "source": [
    "## Decomposition biplot\n",
    "\n",
    "PCA-like data decomposition and biosample similarity biplot, `plot_opu_abundance_plot()` accepts three parameters:\n",
    "\n",
    "### `plot_to`\n",
    "\n",
    "How the plot will be shown, possible values are:\n",
    "\n",
    "* `plot=\"show\"`: show the plot in `matplotlib`'s interactive mode (only works in command-line)\n",
    "* `plot=\"jupyter\"`: embed the plot into Jupyter notebook (only works in jupyter notebook)\n",
    "* `plot=\"plot.png\"`: save as an image; `plot.png` can be changed to arbitrary file name of supported format, e.g. `my_image.tiff`;\n",
    "\n",
    "### `dpi`\n",
    "\n",
    "The resolution of output image, default is 300. Higher the dpi, larger the image file, and slower the rendering time. Typically 300 is good overall, <=150 has better portability and 600 is good for publication/print. Please note that some journal may require a minimal resolution in author's guide.\n",
    "\n",
    "### `method`\n",
    "\n",
    "The method to decomposite data, default is `method=\"pca\"`. Currently only supports PCA."
   ]
  },
  {
   "cell_type": "code",
   "execution_count": null,
   "metadata": {},
   "outputs": [],
   "source": [
    "opu_analysis.plot_opu_abundance_biplot(plot_to=\"jupyter\", dpi=300, method=\"pca\")"
   ]
  },
  {
   "attachments": {},
   "cell_type": "markdown",
   "metadata": {},
   "source": [
    "# OPU-based feature ranking\n",
    "\n",
    "Features that provide efficient information distinguishing recognized OPUs can be ranked. One-versus-the-rest (OVR) analysis is applied to assess the individual feature ranking at per OPU basis, therefore identifying the most important features in distinguishing each recognized OPU from other OPUs.\n",
    "\n",
    "## Feature ranking analysis\n",
    "\n",
    "`rank_features()` runs the OVR feature ranking, accepts one parameter:\n",
    "\n",
    "### `method`\n",
    "\n",
    "The ranking score used in the analysis, value can be:\n",
    "\n",
    "* `method=\"fisher_score\"`: Fisher score\n",
    "* `method=\"lap_score\"`: Laplacian score\n",
    "* `method=\"trace_ratio\"`: trace-ratio"
   ]
  },
  {
   "cell_type": "code",
   "execution_count": null,
   "metadata": {},
   "outputs": [],
   "source": [
    "opu_analysis.rank_features(\"fisher_score\")  # 'method=' can be omitted"
   ]
  },
  {
   "attachments": {},
   "cell_type": "markdown",
   "metadata": {},
   "source": [
    "## Save ranked feature table\n",
    "\n",
    "`save_opu_feature_rank_table()` saves the sorted features (wavenumbers) in each OPU in descending order, i.e. the first feature on the list is the most imporant feature to distinguish the corresponding OPU from others, and the last feature is the least important. Possible parameters are:\n",
    "\n",
    "### first argument\n",
    "\n",
    "Path to the output file\n",
    "\n",
    "### `delimiter`\n",
    "\n",
    "The delimiter used in tabular output, default is `<tab>`."
   ]
  },
  {
   "cell_type": "code",
   "execution_count": null,
   "metadata": {},
   "outputs": [],
   "source": [
    "opu_analysis.save_opu_feature_rank_table(\"example.assets/opu.feature_rank.txt\", delimiter=\"\\t\")"
   ]
  },
  {
   "attachments": {},
   "cell_type": "markdown",
   "metadata": {},
   "source": [
    "## Make OPU feature rank plot\n",
    "\n",
    "`plot_opu_feature_rank()` will visualize the feature rank and output as a figure. Similar to other plot functions, it can accept two common arguments:\n",
    "\n",
    "### `plot_to`\n",
    "\n",
    "How the plot will be shown, possible values are:\n",
    "\n",
    "* `plot=\"show\"`: show the plot in `matplotlib`'s interactive mode (only works in command-line)\n",
    "* `plot=\"jupyter\"`: embed the plot into Jupyter notebook (only works in jupyter notebook)\n",
    "* `plot=\"plot.png\"`: save as an image; `plot.png` can be changed to arbitrary file name of supported format, e.g. `my_image.tiff`;\n",
    "\n",
    "### `dpi`\n",
    "\n",
    "The resolution of output image, default is 300. Higher the dpi, larger the image file, and slower the rendering time. Typically 300 is good overall, <=150 has better portability and 600 is good for publication/print. Please note that some journal may require a minimal resolution in author's guide."
   ]
  },
  {
   "cell_type": "code",
   "execution_count": null,
   "metadata": {},
   "outputs": [],
   "source": [
    "opu_analysis.plot_opu_feature_rank(plot_to=\"jupyter\", dpi=300)"
   ]
  }
 ],
 "metadata": {
  "kernelspec": {
   "display_name": "Python 3",
   "language": "python",
   "name": "python3"
  },
  "language_info": {
   "codemirror_mode": {
    "name": "ipython",
    "version": 3
   },
   "file_extension": ".py",
   "mimetype": "text/x-python",
   "name": "python",
   "nbconvert_exporter": "python",
   "pygments_lexer": "ipython3",
   "version": "3.10.10"
  },
  "orig_nbformat": 4,
  "vscode": {
   "interpreter": {
    "hash": "31f2aee4e71d21fbe5cf8b01ff0e069b9275f58929596ceb00d14d90e3e16cd6"
   }
  }
 },
 "nbformat": 4,
 "nbformat_minor": 2
}
